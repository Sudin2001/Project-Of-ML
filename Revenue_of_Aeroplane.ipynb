{
  "nbformat": 4,
  "nbformat_minor": 0,
  "metadata": {
    "colab": {
      "provenance": [],
      "authorship_tag": "ABX9TyNeBYPRYok7RTxTU1YFxtss",
      "include_colab_link": true
    },
    "kernelspec": {
      "name": "python3",
      "display_name": "Python 3"
    },
    "language_info": {
      "name": "python"
    }
  },
  "cells": [
    {
      "cell_type": "markdown",
      "metadata": {
        "id": "view-in-github",
        "colab_type": "text"
      },
      "source": [
        "<a href=\"https://colab.research.google.com/github/Sudin2001/Project-Of-ML/blob/main/Revenue_of_Aeroplane.ipynb\" target=\"_parent\"><img src=\"https://colab.research.google.com/assets/colab-badge.svg\" alt=\"Open In Colab\"/></a>"
      ]
    },
    {
      "cell_type": "code",
      "execution_count": null,
      "metadata": {
        "colab": {
          "base_uri": "https://localhost:8080/"
        },
        "id": "bT0bnS4MqVnm",
        "outputId": "41015553-2d2f-44c5-bf33-9b2d9d73aac0"
      },
      "outputs": [
        {
          "output_type": "stream",
          "name": "stdout",
          "text": [
            "Mounted at /content/drive\n"
          ]
        }
      ],
      "source": [
        "from google.colab import drive\n",
        "drive.mount('/content/drive')"
      ]
    },
    {
      "cell_type": "code",
      "source": [
        "import pandas as pd\n",
        "\n",
        "booking_data = pd.read_csv(\"/content/drive/MyDrive/booking_data.csv\")\n",
        "inventory_data = pd.read_csv(\"/content/drive/MyDrive/inventory_data.csv\")\n",
        "competitor_data = pd.read_csv(\"/content/drive/MyDrive/competitor_pricing_data.csv\")"
      ],
      "metadata": {
        "id": "vfV-UeamqgfO"
      },
      "execution_count": null,
      "outputs": []
    },
    {
      "cell_type": "code",
      "source": [
        "booking_data.head()"
      ],
      "metadata": {
        "colab": {
          "base_uri": "https://localhost:8080/",
          "height": 240
        },
        "id": "7iQy97YfB6dp",
        "outputId": "a66bce6a-ad00-4696-cee8-ee97c6fba7f3"
      },
      "execution_count": null,
      "outputs": [
        {
          "output_type": "execute_result",
          "data": {
            "text/plain": [
              "  Booking ID Flight Number Date of Booking Travel Date       Fare Class  \\\n",
              "0     B63032         FL100      2025-05-19  2025-05-22          Economy   \n",
              "1     B60060         FL100      2025-05-18  2025-05-22          Economy   \n",
              "2     B62690         FL100      2025-05-05  2025-05-22         Business   \n",
              "3     B90229         FL100      2025-05-12  2025-05-22          Economy   \n",
              "4     B36959         FL100      2025-05-08  2025-05-22  Premium Economy   \n",
              "\n",
              "    Price  Seats Booked Channel  \n",
              "0  400.21             3     Web  \n",
              "1  346.57             2   Agent  \n",
              "2  339.37             1     Web  \n",
              "3  231.38             3   Agent  \n",
              "4  468.72             1     Web  "
            ],
            "text/html": [
              "\n",
              "  <div id=\"df-f9a6276a-a22d-4871-bcbb-5eac150f4e9d\" class=\"colab-df-container\">\n",
              "    <div>\n",
              "<style scoped>\n",
              "    .dataframe tbody tr th:only-of-type {\n",
              "        vertical-align: middle;\n",
              "    }\n",
              "\n",
              "    .dataframe tbody tr th {\n",
              "        vertical-align: top;\n",
              "    }\n",
              "\n",
              "    .dataframe thead th {\n",
              "        text-align: right;\n",
              "    }\n",
              "</style>\n",
              "<table border=\"1\" class=\"dataframe\">\n",
              "  <thead>\n",
              "    <tr style=\"text-align: right;\">\n",
              "      <th></th>\n",
              "      <th>Booking ID</th>\n",
              "      <th>Flight Number</th>\n",
              "      <th>Date of Booking</th>\n",
              "      <th>Travel Date</th>\n",
              "      <th>Fare Class</th>\n",
              "      <th>Price</th>\n",
              "      <th>Seats Booked</th>\n",
              "      <th>Channel</th>\n",
              "    </tr>\n",
              "  </thead>\n",
              "  <tbody>\n",
              "    <tr>\n",
              "      <th>0</th>\n",
              "      <td>B63032</td>\n",
              "      <td>FL100</td>\n",
              "      <td>2025-05-19</td>\n",
              "      <td>2025-05-22</td>\n",
              "      <td>Economy</td>\n",
              "      <td>400.21</td>\n",
              "      <td>3</td>\n",
              "      <td>Web</td>\n",
              "    </tr>\n",
              "    <tr>\n",
              "      <th>1</th>\n",
              "      <td>B60060</td>\n",
              "      <td>FL100</td>\n",
              "      <td>2025-05-18</td>\n",
              "      <td>2025-05-22</td>\n",
              "      <td>Economy</td>\n",
              "      <td>346.57</td>\n",
              "      <td>2</td>\n",
              "      <td>Agent</td>\n",
              "    </tr>\n",
              "    <tr>\n",
              "      <th>2</th>\n",
              "      <td>B62690</td>\n",
              "      <td>FL100</td>\n",
              "      <td>2025-05-05</td>\n",
              "      <td>2025-05-22</td>\n",
              "      <td>Business</td>\n",
              "      <td>339.37</td>\n",
              "      <td>1</td>\n",
              "      <td>Web</td>\n",
              "    </tr>\n",
              "    <tr>\n",
              "      <th>3</th>\n",
              "      <td>B90229</td>\n",
              "      <td>FL100</td>\n",
              "      <td>2025-05-12</td>\n",
              "      <td>2025-05-22</td>\n",
              "      <td>Economy</td>\n",
              "      <td>231.38</td>\n",
              "      <td>3</td>\n",
              "      <td>Agent</td>\n",
              "    </tr>\n",
              "    <tr>\n",
              "      <th>4</th>\n",
              "      <td>B36959</td>\n",
              "      <td>FL100</td>\n",
              "      <td>2025-05-08</td>\n",
              "      <td>2025-05-22</td>\n",
              "      <td>Premium Economy</td>\n",
              "      <td>468.72</td>\n",
              "      <td>1</td>\n",
              "      <td>Web</td>\n",
              "    </tr>\n",
              "  </tbody>\n",
              "</table>\n",
              "</div>\n",
              "    <div class=\"colab-df-buttons\">\n",
              "\n",
              "  <div class=\"colab-df-container\">\n",
              "    <button class=\"colab-df-convert\" onclick=\"convertToInteractive('df-f9a6276a-a22d-4871-bcbb-5eac150f4e9d')\"\n",
              "            title=\"Convert this dataframe to an interactive table.\"\n",
              "            style=\"display:none;\">\n",
              "\n",
              "  <svg xmlns=\"http://www.w3.org/2000/svg\" height=\"24px\" viewBox=\"0 -960 960 960\">\n",
              "    <path d=\"M120-120v-720h720v720H120Zm60-500h600v-160H180v160Zm220 220h160v-160H400v160Zm0 220h160v-160H400v160ZM180-400h160v-160H180v160Zm440 0h160v-160H620v160ZM180-180h160v-160H180v160Zm440 0h160v-160H620v160Z\"/>\n",
              "  </svg>\n",
              "    </button>\n",
              "\n",
              "  <style>\n",
              "    .colab-df-container {\n",
              "      display:flex;\n",
              "      gap: 12px;\n",
              "    }\n",
              "\n",
              "    .colab-df-convert {\n",
              "      background-color: #E8F0FE;\n",
              "      border: none;\n",
              "      border-radius: 50%;\n",
              "      cursor: pointer;\n",
              "      display: none;\n",
              "      fill: #1967D2;\n",
              "      height: 32px;\n",
              "      padding: 0 0 0 0;\n",
              "      width: 32px;\n",
              "    }\n",
              "\n",
              "    .colab-df-convert:hover {\n",
              "      background-color: #E2EBFA;\n",
              "      box-shadow: 0px 1px 2px rgba(60, 64, 67, 0.3), 0px 1px 3px 1px rgba(60, 64, 67, 0.15);\n",
              "      fill: #174EA6;\n",
              "    }\n",
              "\n",
              "    .colab-df-buttons div {\n",
              "      margin-bottom: 4px;\n",
              "    }\n",
              "\n",
              "    [theme=dark] .colab-df-convert {\n",
              "      background-color: #3B4455;\n",
              "      fill: #D2E3FC;\n",
              "    }\n",
              "\n",
              "    [theme=dark] .colab-df-convert:hover {\n",
              "      background-color: #434B5C;\n",
              "      box-shadow: 0px 1px 3px 1px rgba(0, 0, 0, 0.15);\n",
              "      filter: drop-shadow(0px 1px 2px rgba(0, 0, 0, 0.3));\n",
              "      fill: #FFFFFF;\n",
              "    }\n",
              "  </style>\n",
              "\n",
              "    <script>\n",
              "      const buttonEl =\n",
              "        document.querySelector('#df-f9a6276a-a22d-4871-bcbb-5eac150f4e9d button.colab-df-convert');\n",
              "      buttonEl.style.display =\n",
              "        google.colab.kernel.accessAllowed ? 'block' : 'none';\n",
              "\n",
              "      async function convertToInteractive(key) {\n",
              "        const element = document.querySelector('#df-f9a6276a-a22d-4871-bcbb-5eac150f4e9d');\n",
              "        const dataTable =\n",
              "          await google.colab.kernel.invokeFunction('convertToInteractive',\n",
              "                                                    [key], {});\n",
              "        if (!dataTable) return;\n",
              "\n",
              "        const docLinkHtml = 'Like what you see? Visit the ' +\n",
              "          '<a target=\"_blank\" href=https://colab.research.google.com/notebooks/data_table.ipynb>data table notebook</a>'\n",
              "          + ' to learn more about interactive tables.';\n",
              "        element.innerHTML = '';\n",
              "        dataTable['output_type'] = 'display_data';\n",
              "        await google.colab.output.renderOutput(dataTable, element);\n",
              "        const docLink = document.createElement('div');\n",
              "        docLink.innerHTML = docLinkHtml;\n",
              "        element.appendChild(docLink);\n",
              "      }\n",
              "    </script>\n",
              "  </div>\n",
              "\n",
              "\n",
              "    <div id=\"df-24ab6f55-24c5-42c2-8f05-c4781e9584d2\">\n",
              "      <button class=\"colab-df-quickchart\" onclick=\"quickchart('df-24ab6f55-24c5-42c2-8f05-c4781e9584d2')\"\n",
              "                title=\"Suggest charts\"\n",
              "                style=\"display:none;\">\n",
              "\n",
              "<svg xmlns=\"http://www.w3.org/2000/svg\" height=\"24px\"viewBox=\"0 0 24 24\"\n",
              "     width=\"24px\">\n",
              "    <g>\n",
              "        <path d=\"M19 3H5c-1.1 0-2 .9-2 2v14c0 1.1.9 2 2 2h14c1.1 0 2-.9 2-2V5c0-1.1-.9-2-2-2zM9 17H7v-7h2v7zm4 0h-2V7h2v10zm4 0h-2v-4h2v4z\"/>\n",
              "    </g>\n",
              "</svg>\n",
              "      </button>\n",
              "\n",
              "<style>\n",
              "  .colab-df-quickchart {\n",
              "      --bg-color: #E8F0FE;\n",
              "      --fill-color: #1967D2;\n",
              "      --hover-bg-color: #E2EBFA;\n",
              "      --hover-fill-color: #174EA6;\n",
              "      --disabled-fill-color: #AAA;\n",
              "      --disabled-bg-color: #DDD;\n",
              "  }\n",
              "\n",
              "  [theme=dark] .colab-df-quickchart {\n",
              "      --bg-color: #3B4455;\n",
              "      --fill-color: #D2E3FC;\n",
              "      --hover-bg-color: #434B5C;\n",
              "      --hover-fill-color: #FFFFFF;\n",
              "      --disabled-bg-color: #3B4455;\n",
              "      --disabled-fill-color: #666;\n",
              "  }\n",
              "\n",
              "  .colab-df-quickchart {\n",
              "    background-color: var(--bg-color);\n",
              "    border: none;\n",
              "    border-radius: 50%;\n",
              "    cursor: pointer;\n",
              "    display: none;\n",
              "    fill: var(--fill-color);\n",
              "    height: 32px;\n",
              "    padding: 0;\n",
              "    width: 32px;\n",
              "  }\n",
              "\n",
              "  .colab-df-quickchart:hover {\n",
              "    background-color: var(--hover-bg-color);\n",
              "    box-shadow: 0 1px 2px rgba(60, 64, 67, 0.3), 0 1px 3px 1px rgba(60, 64, 67, 0.15);\n",
              "    fill: var(--button-hover-fill-color);\n",
              "  }\n",
              "\n",
              "  .colab-df-quickchart-complete:disabled,\n",
              "  .colab-df-quickchart-complete:disabled:hover {\n",
              "    background-color: var(--disabled-bg-color);\n",
              "    fill: var(--disabled-fill-color);\n",
              "    box-shadow: none;\n",
              "  }\n",
              "\n",
              "  .colab-df-spinner {\n",
              "    border: 2px solid var(--fill-color);\n",
              "    border-color: transparent;\n",
              "    border-bottom-color: var(--fill-color);\n",
              "    animation:\n",
              "      spin 1s steps(1) infinite;\n",
              "  }\n",
              "\n",
              "  @keyframes spin {\n",
              "    0% {\n",
              "      border-color: transparent;\n",
              "      border-bottom-color: var(--fill-color);\n",
              "      border-left-color: var(--fill-color);\n",
              "    }\n",
              "    20% {\n",
              "      border-color: transparent;\n",
              "      border-left-color: var(--fill-color);\n",
              "      border-top-color: var(--fill-color);\n",
              "    }\n",
              "    30% {\n",
              "      border-color: transparent;\n",
              "      border-left-color: var(--fill-color);\n",
              "      border-top-color: var(--fill-color);\n",
              "      border-right-color: var(--fill-color);\n",
              "    }\n",
              "    40% {\n",
              "      border-color: transparent;\n",
              "      border-right-color: var(--fill-color);\n",
              "      border-top-color: var(--fill-color);\n",
              "    }\n",
              "    60% {\n",
              "      border-color: transparent;\n",
              "      border-right-color: var(--fill-color);\n",
              "    }\n",
              "    80% {\n",
              "      border-color: transparent;\n",
              "      border-right-color: var(--fill-color);\n",
              "      border-bottom-color: var(--fill-color);\n",
              "    }\n",
              "    90% {\n",
              "      border-color: transparent;\n",
              "      border-bottom-color: var(--fill-color);\n",
              "    }\n",
              "  }\n",
              "</style>\n",
              "\n",
              "      <script>\n",
              "        async function quickchart(key) {\n",
              "          const quickchartButtonEl =\n",
              "            document.querySelector('#' + key + ' button');\n",
              "          quickchartButtonEl.disabled = true;  // To prevent multiple clicks.\n",
              "          quickchartButtonEl.classList.add('colab-df-spinner');\n",
              "          try {\n",
              "            const charts = await google.colab.kernel.invokeFunction(\n",
              "                'suggestCharts', [key], {});\n",
              "          } catch (error) {\n",
              "            console.error('Error during call to suggestCharts:', error);\n",
              "          }\n",
              "          quickchartButtonEl.classList.remove('colab-df-spinner');\n",
              "          quickchartButtonEl.classList.add('colab-df-quickchart-complete');\n",
              "        }\n",
              "        (() => {\n",
              "          let quickchartButtonEl =\n",
              "            document.querySelector('#df-24ab6f55-24c5-42c2-8f05-c4781e9584d2 button');\n",
              "          quickchartButtonEl.style.display =\n",
              "            google.colab.kernel.accessAllowed ? 'block' : 'none';\n",
              "        })();\n",
              "      </script>\n",
              "    </div>\n",
              "\n",
              "    </div>\n",
              "  </div>\n"
            ],
            "application/vnd.google.colaboratory.intrinsic+json": {
              "type": "dataframe",
              "variable_name": "booking_data",
              "summary": "{\n  \"name\": \"booking_data\",\n  \"rows\": 2963,\n  \"fields\": [\n    {\n      \"column\": \"Booking ID\",\n      \"properties\": {\n        \"dtype\": \"string\",\n        \"num_unique_values\": 2919,\n        \"samples\": [\n          \"B21041\",\n          \"B64669\",\n          \"B69719\"\n        ],\n        \"semantic_type\": \"\",\n        \"description\": \"\"\n      }\n    },\n    {\n      \"column\": \"Flight Number\",\n      \"properties\": {\n        \"dtype\": \"category\",\n        \"num_unique_values\": 10,\n        \"samples\": [\n          \"FL108\",\n          \"FL101\",\n          \"FL105\"\n        ],\n        \"semantic_type\": \"\",\n        \"description\": \"\"\n      }\n    },\n    {\n      \"column\": \"Date of Booking\",\n      \"properties\": {\n        \"dtype\": \"object\",\n        \"num_unique_values\": 59,\n        \"samples\": [\n          \"2025-05-19\",\n          \"2025-05-11\",\n          \"2025-05-28\"\n        ],\n        \"semantic_type\": \"\",\n        \"description\": \"\"\n      }\n    },\n    {\n      \"column\": \"Travel Date\",\n      \"properties\": {\n        \"dtype\": \"object\",\n        \"num_unique_values\": 30,\n        \"samples\": [\n          \"2025-06-18\",\n          \"2025-06-06\",\n          \"2025-06-14\"\n        ],\n        \"semantic_type\": \"\",\n        \"description\": \"\"\n      }\n    },\n    {\n      \"column\": \"Fare Class\",\n      \"properties\": {\n        \"dtype\": \"category\",\n        \"num_unique_values\": 3,\n        \"samples\": [\n          \"Economy\",\n          \"Business\",\n          \"Premium Economy\"\n        ],\n        \"semantic_type\": \"\",\n        \"description\": \"\"\n      }\n    },\n    {\n      \"column\": \"Price\",\n      \"properties\": {\n        \"dtype\": \"number\",\n        \"std\": 116.56181295275763,\n        \"min\": 100.04,\n        \"max\": 499.58,\n        \"num_unique_values\": 2847,\n        \"samples\": [\n          279.87,\n          438.26,\n          336.04\n        ],\n        \"semantic_type\": \"\",\n        \"description\": \"\"\n      }\n    },\n    {\n      \"column\": \"Seats Booked\",\n      \"properties\": {\n        \"dtype\": \"number\",\n        \"std\": 0,\n        \"min\": 1,\n        \"max\": 3,\n        \"num_unique_values\": 3,\n        \"samples\": [\n          3,\n          2,\n          1\n        ],\n        \"semantic_type\": \"\",\n        \"description\": \"\"\n      }\n    },\n    {\n      \"column\": \"Channel\",\n      \"properties\": {\n        \"dtype\": \"category\",\n        \"num_unique_values\": 3,\n        \"samples\": [\n          \"Web\",\n          \"Agent\",\n          \"App\"\n        ],\n        \"semantic_type\": \"\",\n        \"description\": \"\"\n      }\n    }\n  ]\n}"
            }
          },
          "metadata": {},
          "execution_count": 3
        }
      ]
    },
    {
      "cell_type": "code",
      "source": [
        "inventory_data.head()"
      ],
      "metadata": {
        "colab": {
          "base_uri": "https://localhost:8080/",
          "height": 206
        },
        "id": "SDDK16zxCCdU",
        "outputId": "cdd62760-dadf-4a56-fe9e-c93e28338f01"
      },
      "execution_count": null,
      "outputs": [
        {
          "output_type": "execute_result",
          "data": {
            "text/plain": [
              "  Flight Number       Date Aircraft Type  Total Seats  Booked Seats  \\\n",
              "0         FL100  5/22/2025          B737          180           150   \n",
              "1         FL100  5/23/2025          B737          180           147   \n",
              "2         FL100  5/24/2025          A321          180           121   \n",
              "3         FL100  5/25/2025          B737          180           154   \n",
              "4         FL100  5/26/2025          A320          180           117   \n",
              "\n",
              "   Remaining Seats  \n",
              "0               30  \n",
              "1               33  \n",
              "2               59  \n",
              "3               26  \n",
              "4               63  "
            ],
            "text/html": [
              "\n",
              "  <div id=\"df-b1cd89a5-f6a1-409a-a4df-f136ebdc6a39\" class=\"colab-df-container\">\n",
              "    <div>\n",
              "<style scoped>\n",
              "    .dataframe tbody tr th:only-of-type {\n",
              "        vertical-align: middle;\n",
              "    }\n",
              "\n",
              "    .dataframe tbody tr th {\n",
              "        vertical-align: top;\n",
              "    }\n",
              "\n",
              "    .dataframe thead th {\n",
              "        text-align: right;\n",
              "    }\n",
              "</style>\n",
              "<table border=\"1\" class=\"dataframe\">\n",
              "  <thead>\n",
              "    <tr style=\"text-align: right;\">\n",
              "      <th></th>\n",
              "      <th>Flight Number</th>\n",
              "      <th>Date</th>\n",
              "      <th>Aircraft Type</th>\n",
              "      <th>Total Seats</th>\n",
              "      <th>Booked Seats</th>\n",
              "      <th>Remaining Seats</th>\n",
              "    </tr>\n",
              "  </thead>\n",
              "  <tbody>\n",
              "    <tr>\n",
              "      <th>0</th>\n",
              "      <td>FL100</td>\n",
              "      <td>5/22/2025</td>\n",
              "      <td>B737</td>\n",
              "      <td>180</td>\n",
              "      <td>150</td>\n",
              "      <td>30</td>\n",
              "    </tr>\n",
              "    <tr>\n",
              "      <th>1</th>\n",
              "      <td>FL100</td>\n",
              "      <td>5/23/2025</td>\n",
              "      <td>B737</td>\n",
              "      <td>180</td>\n",
              "      <td>147</td>\n",
              "      <td>33</td>\n",
              "    </tr>\n",
              "    <tr>\n",
              "      <th>2</th>\n",
              "      <td>FL100</td>\n",
              "      <td>5/24/2025</td>\n",
              "      <td>A321</td>\n",
              "      <td>180</td>\n",
              "      <td>121</td>\n",
              "      <td>59</td>\n",
              "    </tr>\n",
              "    <tr>\n",
              "      <th>3</th>\n",
              "      <td>FL100</td>\n",
              "      <td>5/25/2025</td>\n",
              "      <td>B737</td>\n",
              "      <td>180</td>\n",
              "      <td>154</td>\n",
              "      <td>26</td>\n",
              "    </tr>\n",
              "    <tr>\n",
              "      <th>4</th>\n",
              "      <td>FL100</td>\n",
              "      <td>5/26/2025</td>\n",
              "      <td>A320</td>\n",
              "      <td>180</td>\n",
              "      <td>117</td>\n",
              "      <td>63</td>\n",
              "    </tr>\n",
              "  </tbody>\n",
              "</table>\n",
              "</div>\n",
              "    <div class=\"colab-df-buttons\">\n",
              "\n",
              "  <div class=\"colab-df-container\">\n",
              "    <button class=\"colab-df-convert\" onclick=\"convertToInteractive('df-b1cd89a5-f6a1-409a-a4df-f136ebdc6a39')\"\n",
              "            title=\"Convert this dataframe to an interactive table.\"\n",
              "            style=\"display:none;\">\n",
              "\n",
              "  <svg xmlns=\"http://www.w3.org/2000/svg\" height=\"24px\" viewBox=\"0 -960 960 960\">\n",
              "    <path d=\"M120-120v-720h720v720H120Zm60-500h600v-160H180v160Zm220 220h160v-160H400v160Zm0 220h160v-160H400v160ZM180-400h160v-160H180v160Zm440 0h160v-160H620v160ZM180-180h160v-160H180v160Zm440 0h160v-160H620v160Z\"/>\n",
              "  </svg>\n",
              "    </button>\n",
              "\n",
              "  <style>\n",
              "    .colab-df-container {\n",
              "      display:flex;\n",
              "      gap: 12px;\n",
              "    }\n",
              "\n",
              "    .colab-df-convert {\n",
              "      background-color: #E8F0FE;\n",
              "      border: none;\n",
              "      border-radius: 50%;\n",
              "      cursor: pointer;\n",
              "      display: none;\n",
              "      fill: #1967D2;\n",
              "      height: 32px;\n",
              "      padding: 0 0 0 0;\n",
              "      width: 32px;\n",
              "    }\n",
              "\n",
              "    .colab-df-convert:hover {\n",
              "      background-color: #E2EBFA;\n",
              "      box-shadow: 0px 1px 2px rgba(60, 64, 67, 0.3), 0px 1px 3px 1px rgba(60, 64, 67, 0.15);\n",
              "      fill: #174EA6;\n",
              "    }\n",
              "\n",
              "    .colab-df-buttons div {\n",
              "      margin-bottom: 4px;\n",
              "    }\n",
              "\n",
              "    [theme=dark] .colab-df-convert {\n",
              "      background-color: #3B4455;\n",
              "      fill: #D2E3FC;\n",
              "    }\n",
              "\n",
              "    [theme=dark] .colab-df-convert:hover {\n",
              "      background-color: #434B5C;\n",
              "      box-shadow: 0px 1px 3px 1px rgba(0, 0, 0, 0.15);\n",
              "      filter: drop-shadow(0px 1px 2px rgba(0, 0, 0, 0.3));\n",
              "      fill: #FFFFFF;\n",
              "    }\n",
              "  </style>\n",
              "\n",
              "    <script>\n",
              "      const buttonEl =\n",
              "        document.querySelector('#df-b1cd89a5-f6a1-409a-a4df-f136ebdc6a39 button.colab-df-convert');\n",
              "      buttonEl.style.display =\n",
              "        google.colab.kernel.accessAllowed ? 'block' : 'none';\n",
              "\n",
              "      async function convertToInteractive(key) {\n",
              "        const element = document.querySelector('#df-b1cd89a5-f6a1-409a-a4df-f136ebdc6a39');\n",
              "        const dataTable =\n",
              "          await google.colab.kernel.invokeFunction('convertToInteractive',\n",
              "                                                    [key], {});\n",
              "        if (!dataTable) return;\n",
              "\n",
              "        const docLinkHtml = 'Like what you see? Visit the ' +\n",
              "          '<a target=\"_blank\" href=https://colab.research.google.com/notebooks/data_table.ipynb>data table notebook</a>'\n",
              "          + ' to learn more about interactive tables.';\n",
              "        element.innerHTML = '';\n",
              "        dataTable['output_type'] = 'display_data';\n",
              "        await google.colab.output.renderOutput(dataTable, element);\n",
              "        const docLink = document.createElement('div');\n",
              "        docLink.innerHTML = docLinkHtml;\n",
              "        element.appendChild(docLink);\n",
              "      }\n",
              "    </script>\n",
              "  </div>\n",
              "\n",
              "\n",
              "    <div id=\"df-383e28a2-ee56-499a-801e-178af6b46ddb\">\n",
              "      <button class=\"colab-df-quickchart\" onclick=\"quickchart('df-383e28a2-ee56-499a-801e-178af6b46ddb')\"\n",
              "                title=\"Suggest charts\"\n",
              "                style=\"display:none;\">\n",
              "\n",
              "<svg xmlns=\"http://www.w3.org/2000/svg\" height=\"24px\"viewBox=\"0 0 24 24\"\n",
              "     width=\"24px\">\n",
              "    <g>\n",
              "        <path d=\"M19 3H5c-1.1 0-2 .9-2 2v14c0 1.1.9 2 2 2h14c1.1 0 2-.9 2-2V5c0-1.1-.9-2-2-2zM9 17H7v-7h2v7zm4 0h-2V7h2v10zm4 0h-2v-4h2v4z\"/>\n",
              "    </g>\n",
              "</svg>\n",
              "      </button>\n",
              "\n",
              "<style>\n",
              "  .colab-df-quickchart {\n",
              "      --bg-color: #E8F0FE;\n",
              "      --fill-color: #1967D2;\n",
              "      --hover-bg-color: #E2EBFA;\n",
              "      --hover-fill-color: #174EA6;\n",
              "      --disabled-fill-color: #AAA;\n",
              "      --disabled-bg-color: #DDD;\n",
              "  }\n",
              "\n",
              "  [theme=dark] .colab-df-quickchart {\n",
              "      --bg-color: #3B4455;\n",
              "      --fill-color: #D2E3FC;\n",
              "      --hover-bg-color: #434B5C;\n",
              "      --hover-fill-color: #FFFFFF;\n",
              "      --disabled-bg-color: #3B4455;\n",
              "      --disabled-fill-color: #666;\n",
              "  }\n",
              "\n",
              "  .colab-df-quickchart {\n",
              "    background-color: var(--bg-color);\n",
              "    border: none;\n",
              "    border-radius: 50%;\n",
              "    cursor: pointer;\n",
              "    display: none;\n",
              "    fill: var(--fill-color);\n",
              "    height: 32px;\n",
              "    padding: 0;\n",
              "    width: 32px;\n",
              "  }\n",
              "\n",
              "  .colab-df-quickchart:hover {\n",
              "    background-color: var(--hover-bg-color);\n",
              "    box-shadow: 0 1px 2px rgba(60, 64, 67, 0.3), 0 1px 3px 1px rgba(60, 64, 67, 0.15);\n",
              "    fill: var(--button-hover-fill-color);\n",
              "  }\n",
              "\n",
              "  .colab-df-quickchart-complete:disabled,\n",
              "  .colab-df-quickchart-complete:disabled:hover {\n",
              "    background-color: var(--disabled-bg-color);\n",
              "    fill: var(--disabled-fill-color);\n",
              "    box-shadow: none;\n",
              "  }\n",
              "\n",
              "  .colab-df-spinner {\n",
              "    border: 2px solid var(--fill-color);\n",
              "    border-color: transparent;\n",
              "    border-bottom-color: var(--fill-color);\n",
              "    animation:\n",
              "      spin 1s steps(1) infinite;\n",
              "  }\n",
              "\n",
              "  @keyframes spin {\n",
              "    0% {\n",
              "      border-color: transparent;\n",
              "      border-bottom-color: var(--fill-color);\n",
              "      border-left-color: var(--fill-color);\n",
              "    }\n",
              "    20% {\n",
              "      border-color: transparent;\n",
              "      border-left-color: var(--fill-color);\n",
              "      border-top-color: var(--fill-color);\n",
              "    }\n",
              "    30% {\n",
              "      border-color: transparent;\n",
              "      border-left-color: var(--fill-color);\n",
              "      border-top-color: var(--fill-color);\n",
              "      border-right-color: var(--fill-color);\n",
              "    }\n",
              "    40% {\n",
              "      border-color: transparent;\n",
              "      border-right-color: var(--fill-color);\n",
              "      border-top-color: var(--fill-color);\n",
              "    }\n",
              "    60% {\n",
              "      border-color: transparent;\n",
              "      border-right-color: var(--fill-color);\n",
              "    }\n",
              "    80% {\n",
              "      border-color: transparent;\n",
              "      border-right-color: var(--fill-color);\n",
              "      border-bottom-color: var(--fill-color);\n",
              "    }\n",
              "    90% {\n",
              "      border-color: transparent;\n",
              "      border-bottom-color: var(--fill-color);\n",
              "    }\n",
              "  }\n",
              "</style>\n",
              "\n",
              "      <script>\n",
              "        async function quickchart(key) {\n",
              "          const quickchartButtonEl =\n",
              "            document.querySelector('#' + key + ' button');\n",
              "          quickchartButtonEl.disabled = true;  // To prevent multiple clicks.\n",
              "          quickchartButtonEl.classList.add('colab-df-spinner');\n",
              "          try {\n",
              "            const charts = await google.colab.kernel.invokeFunction(\n",
              "                'suggestCharts', [key], {});\n",
              "          } catch (error) {\n",
              "            console.error('Error during call to suggestCharts:', error);\n",
              "          }\n",
              "          quickchartButtonEl.classList.remove('colab-df-spinner');\n",
              "          quickchartButtonEl.classList.add('colab-df-quickchart-complete');\n",
              "        }\n",
              "        (() => {\n",
              "          let quickchartButtonEl =\n",
              "            document.querySelector('#df-383e28a2-ee56-499a-801e-178af6b46ddb button');\n",
              "          quickchartButtonEl.style.display =\n",
              "            google.colab.kernel.accessAllowed ? 'block' : 'none';\n",
              "        })();\n",
              "      </script>\n",
              "    </div>\n",
              "\n",
              "    </div>\n",
              "  </div>\n"
            ],
            "application/vnd.google.colaboratory.intrinsic+json": {
              "type": "dataframe",
              "variable_name": "inventory_data",
              "summary": "{\n  \"name\": \"inventory_data\",\n  \"rows\": 300,\n  \"fields\": [\n    {\n      \"column\": \"Flight Number\",\n      \"properties\": {\n        \"dtype\": \"category\",\n        \"num_unique_values\": 10,\n        \"samples\": [\n          \"FL108\",\n          \"FL101\",\n          \"FL105\"\n        ],\n        \"semantic_type\": \"\",\n        \"description\": \"\"\n      }\n    },\n    {\n      \"column\": \"Date\",\n      \"properties\": {\n        \"dtype\": \"object\",\n        \"num_unique_values\": 30,\n        \"samples\": [\n          \"6/18/2025\",\n          \"6/6/2025\",\n          \"6/14/2025\"\n        ],\n        \"semantic_type\": \"\",\n        \"description\": \"\"\n      }\n    },\n    {\n      \"column\": \"Aircraft Type\",\n      \"properties\": {\n        \"dtype\": \"category\",\n        \"num_unique_values\": 3,\n        \"samples\": [\n          \"B737\",\n          \"A321\",\n          \"A320\"\n        ],\n        \"semantic_type\": \"\",\n        \"description\": \"\"\n      }\n    },\n    {\n      \"column\": \"Total Seats\",\n      \"properties\": {\n        \"dtype\": \"number\",\n        \"std\": 0,\n        \"min\": 180,\n        \"max\": 180,\n        \"num_unique_values\": 1,\n        \"samples\": [\n          180\n        ],\n        \"semantic_type\": \"\",\n        \"description\": \"\"\n      }\n    },\n    {\n      \"column\": \"Booked Seats\",\n      \"properties\": {\n        \"dtype\": \"number\",\n        \"std\": 19,\n        \"min\": 100,\n        \"max\": 170,\n        \"num_unique_values\": 71,\n        \"samples\": [\n          142\n        ],\n        \"semantic_type\": \"\",\n        \"description\": \"\"\n      }\n    },\n    {\n      \"column\": \"Remaining Seats\",\n      \"properties\": {\n        \"dtype\": \"number\",\n        \"std\": 19,\n        \"min\": 10,\n        \"max\": 80,\n        \"num_unique_values\": 71,\n        \"samples\": [\n          38\n        ],\n        \"semantic_type\": \"\",\n        \"description\": \"\"\n      }\n    }\n  ]\n}"
            }
          },
          "metadata": {},
          "execution_count": 4
        }
      ]
    },
    {
      "cell_type": "code",
      "source": [
        "competitor_data.head()"
      ],
      "metadata": {
        "colab": {
          "base_uri": "https://localhost:8080/",
          "height": 206
        },
        "id": "v5CHtN-ZCMVn",
        "outputId": "9cc131e0-ad17-4d90-e1ac-87fccb1b7edb"
      },
      "execution_count": null,
      "outputs": [
        {
          "output_type": "execute_result",
          "data": {
            "text/plain": [
              "         Date Flight Number Competitor       Fare Class   Price\n",
              "0  2025-05-22         FL100      Delta          Economy  359.97\n",
              "1  2025-05-22         FL100      Delta  Premium Economy  357.01\n",
              "2  2025-05-22         FL100      Delta         Business  302.36\n",
              "3  2025-05-22         FL100     United          Economy  106.89\n",
              "4  2025-05-22         FL100     United  Premium Economy  468.80"
            ],
            "text/html": [
              "\n",
              "  <div id=\"df-a9459b09-c7ec-418b-a09c-d9652ae68d01\" class=\"colab-df-container\">\n",
              "    <div>\n",
              "<style scoped>\n",
              "    .dataframe tbody tr th:only-of-type {\n",
              "        vertical-align: middle;\n",
              "    }\n",
              "\n",
              "    .dataframe tbody tr th {\n",
              "        vertical-align: top;\n",
              "    }\n",
              "\n",
              "    .dataframe thead th {\n",
              "        text-align: right;\n",
              "    }\n",
              "</style>\n",
              "<table border=\"1\" class=\"dataframe\">\n",
              "  <thead>\n",
              "    <tr style=\"text-align: right;\">\n",
              "      <th></th>\n",
              "      <th>Date</th>\n",
              "      <th>Flight Number</th>\n",
              "      <th>Competitor</th>\n",
              "      <th>Fare Class</th>\n",
              "      <th>Price</th>\n",
              "    </tr>\n",
              "  </thead>\n",
              "  <tbody>\n",
              "    <tr>\n",
              "      <th>0</th>\n",
              "      <td>2025-05-22</td>\n",
              "      <td>FL100</td>\n",
              "      <td>Delta</td>\n",
              "      <td>Economy</td>\n",
              "      <td>359.97</td>\n",
              "    </tr>\n",
              "    <tr>\n",
              "      <th>1</th>\n",
              "      <td>2025-05-22</td>\n",
              "      <td>FL100</td>\n",
              "      <td>Delta</td>\n",
              "      <td>Premium Economy</td>\n",
              "      <td>357.01</td>\n",
              "    </tr>\n",
              "    <tr>\n",
              "      <th>2</th>\n",
              "      <td>2025-05-22</td>\n",
              "      <td>FL100</td>\n",
              "      <td>Delta</td>\n",
              "      <td>Business</td>\n",
              "      <td>302.36</td>\n",
              "    </tr>\n",
              "    <tr>\n",
              "      <th>3</th>\n",
              "      <td>2025-05-22</td>\n",
              "      <td>FL100</td>\n",
              "      <td>United</td>\n",
              "      <td>Economy</td>\n",
              "      <td>106.89</td>\n",
              "    </tr>\n",
              "    <tr>\n",
              "      <th>4</th>\n",
              "      <td>2025-05-22</td>\n",
              "      <td>FL100</td>\n",
              "      <td>United</td>\n",
              "      <td>Premium Economy</td>\n",
              "      <td>468.80</td>\n",
              "    </tr>\n",
              "  </tbody>\n",
              "</table>\n",
              "</div>\n",
              "    <div class=\"colab-df-buttons\">\n",
              "\n",
              "  <div class=\"colab-df-container\">\n",
              "    <button class=\"colab-df-convert\" onclick=\"convertToInteractive('df-a9459b09-c7ec-418b-a09c-d9652ae68d01')\"\n",
              "            title=\"Convert this dataframe to an interactive table.\"\n",
              "            style=\"display:none;\">\n",
              "\n",
              "  <svg xmlns=\"http://www.w3.org/2000/svg\" height=\"24px\" viewBox=\"0 -960 960 960\">\n",
              "    <path d=\"M120-120v-720h720v720H120Zm60-500h600v-160H180v160Zm220 220h160v-160H400v160Zm0 220h160v-160H400v160ZM180-400h160v-160H180v160Zm440 0h160v-160H620v160ZM180-180h160v-160H180v160Zm440 0h160v-160H620v160Z\"/>\n",
              "  </svg>\n",
              "    </button>\n",
              "\n",
              "  <style>\n",
              "    .colab-df-container {\n",
              "      display:flex;\n",
              "      gap: 12px;\n",
              "    }\n",
              "\n",
              "    .colab-df-convert {\n",
              "      background-color: #E8F0FE;\n",
              "      border: none;\n",
              "      border-radius: 50%;\n",
              "      cursor: pointer;\n",
              "      display: none;\n",
              "      fill: #1967D2;\n",
              "      height: 32px;\n",
              "      padding: 0 0 0 0;\n",
              "      width: 32px;\n",
              "    }\n",
              "\n",
              "    .colab-df-convert:hover {\n",
              "      background-color: #E2EBFA;\n",
              "      box-shadow: 0px 1px 2px rgba(60, 64, 67, 0.3), 0px 1px 3px 1px rgba(60, 64, 67, 0.15);\n",
              "      fill: #174EA6;\n",
              "    }\n",
              "\n",
              "    .colab-df-buttons div {\n",
              "      margin-bottom: 4px;\n",
              "    }\n",
              "\n",
              "    [theme=dark] .colab-df-convert {\n",
              "      background-color: #3B4455;\n",
              "      fill: #D2E3FC;\n",
              "    }\n",
              "\n",
              "    [theme=dark] .colab-df-convert:hover {\n",
              "      background-color: #434B5C;\n",
              "      box-shadow: 0px 1px 3px 1px rgba(0, 0, 0, 0.15);\n",
              "      filter: drop-shadow(0px 1px 2px rgba(0, 0, 0, 0.3));\n",
              "      fill: #FFFFFF;\n",
              "    }\n",
              "  </style>\n",
              "\n",
              "    <script>\n",
              "      const buttonEl =\n",
              "        document.querySelector('#df-a9459b09-c7ec-418b-a09c-d9652ae68d01 button.colab-df-convert');\n",
              "      buttonEl.style.display =\n",
              "        google.colab.kernel.accessAllowed ? 'block' : 'none';\n",
              "\n",
              "      async function convertToInteractive(key) {\n",
              "        const element = document.querySelector('#df-a9459b09-c7ec-418b-a09c-d9652ae68d01');\n",
              "        const dataTable =\n",
              "          await google.colab.kernel.invokeFunction('convertToInteractive',\n",
              "                                                    [key], {});\n",
              "        if (!dataTable) return;\n",
              "\n",
              "        const docLinkHtml = 'Like what you see? Visit the ' +\n",
              "          '<a target=\"_blank\" href=https://colab.research.google.com/notebooks/data_table.ipynb>data table notebook</a>'\n",
              "          + ' to learn more about interactive tables.';\n",
              "        element.innerHTML = '';\n",
              "        dataTable['output_type'] = 'display_data';\n",
              "        await google.colab.output.renderOutput(dataTable, element);\n",
              "        const docLink = document.createElement('div');\n",
              "        docLink.innerHTML = docLinkHtml;\n",
              "        element.appendChild(docLink);\n",
              "      }\n",
              "    </script>\n",
              "  </div>\n",
              "\n",
              "\n",
              "    <div id=\"df-d026776f-495d-4445-a3eb-757bf9ebf9e5\">\n",
              "      <button class=\"colab-df-quickchart\" onclick=\"quickchart('df-d026776f-495d-4445-a3eb-757bf9ebf9e5')\"\n",
              "                title=\"Suggest charts\"\n",
              "                style=\"display:none;\">\n",
              "\n",
              "<svg xmlns=\"http://www.w3.org/2000/svg\" height=\"24px\"viewBox=\"0 0 24 24\"\n",
              "     width=\"24px\">\n",
              "    <g>\n",
              "        <path d=\"M19 3H5c-1.1 0-2 .9-2 2v14c0 1.1.9 2 2 2h14c1.1 0 2-.9 2-2V5c0-1.1-.9-2-2-2zM9 17H7v-7h2v7zm4 0h-2V7h2v10zm4 0h-2v-4h2v4z\"/>\n",
              "    </g>\n",
              "</svg>\n",
              "      </button>\n",
              "\n",
              "<style>\n",
              "  .colab-df-quickchart {\n",
              "      --bg-color: #E8F0FE;\n",
              "      --fill-color: #1967D2;\n",
              "      --hover-bg-color: #E2EBFA;\n",
              "      --hover-fill-color: #174EA6;\n",
              "      --disabled-fill-color: #AAA;\n",
              "      --disabled-bg-color: #DDD;\n",
              "  }\n",
              "\n",
              "  [theme=dark] .colab-df-quickchart {\n",
              "      --bg-color: #3B4455;\n",
              "      --fill-color: #D2E3FC;\n",
              "      --hover-bg-color: #434B5C;\n",
              "      --hover-fill-color: #FFFFFF;\n",
              "      --disabled-bg-color: #3B4455;\n",
              "      --disabled-fill-color: #666;\n",
              "  }\n",
              "\n",
              "  .colab-df-quickchart {\n",
              "    background-color: var(--bg-color);\n",
              "    border: none;\n",
              "    border-radius: 50%;\n",
              "    cursor: pointer;\n",
              "    display: none;\n",
              "    fill: var(--fill-color);\n",
              "    height: 32px;\n",
              "    padding: 0;\n",
              "    width: 32px;\n",
              "  }\n",
              "\n",
              "  .colab-df-quickchart:hover {\n",
              "    background-color: var(--hover-bg-color);\n",
              "    box-shadow: 0 1px 2px rgba(60, 64, 67, 0.3), 0 1px 3px 1px rgba(60, 64, 67, 0.15);\n",
              "    fill: var(--button-hover-fill-color);\n",
              "  }\n",
              "\n",
              "  .colab-df-quickchart-complete:disabled,\n",
              "  .colab-df-quickchart-complete:disabled:hover {\n",
              "    background-color: var(--disabled-bg-color);\n",
              "    fill: var(--disabled-fill-color);\n",
              "    box-shadow: none;\n",
              "  }\n",
              "\n",
              "  .colab-df-spinner {\n",
              "    border: 2px solid var(--fill-color);\n",
              "    border-color: transparent;\n",
              "    border-bottom-color: var(--fill-color);\n",
              "    animation:\n",
              "      spin 1s steps(1) infinite;\n",
              "  }\n",
              "\n",
              "  @keyframes spin {\n",
              "    0% {\n",
              "      border-color: transparent;\n",
              "      border-bottom-color: var(--fill-color);\n",
              "      border-left-color: var(--fill-color);\n",
              "    }\n",
              "    20% {\n",
              "      border-color: transparent;\n",
              "      border-left-color: var(--fill-color);\n",
              "      border-top-color: var(--fill-color);\n",
              "    }\n",
              "    30% {\n",
              "      border-color: transparent;\n",
              "      border-left-color: var(--fill-color);\n",
              "      border-top-color: var(--fill-color);\n",
              "      border-right-color: var(--fill-color);\n",
              "    }\n",
              "    40% {\n",
              "      border-color: transparent;\n",
              "      border-right-color: var(--fill-color);\n",
              "      border-top-color: var(--fill-color);\n",
              "    }\n",
              "    60% {\n",
              "      border-color: transparent;\n",
              "      border-right-color: var(--fill-color);\n",
              "    }\n",
              "    80% {\n",
              "      border-color: transparent;\n",
              "      border-right-color: var(--fill-color);\n",
              "      border-bottom-color: var(--fill-color);\n",
              "    }\n",
              "    90% {\n",
              "      border-color: transparent;\n",
              "      border-bottom-color: var(--fill-color);\n",
              "    }\n",
              "  }\n",
              "</style>\n",
              "\n",
              "      <script>\n",
              "        async function quickchart(key) {\n",
              "          const quickchartButtonEl =\n",
              "            document.querySelector('#' + key + ' button');\n",
              "          quickchartButtonEl.disabled = true;  // To prevent multiple clicks.\n",
              "          quickchartButtonEl.classList.add('colab-df-spinner');\n",
              "          try {\n",
              "            const charts = await google.colab.kernel.invokeFunction(\n",
              "                'suggestCharts', [key], {});\n",
              "          } catch (error) {\n",
              "            console.error('Error during call to suggestCharts:', error);\n",
              "          }\n",
              "          quickchartButtonEl.classList.remove('colab-df-spinner');\n",
              "          quickchartButtonEl.classList.add('colab-df-quickchart-complete');\n",
              "        }\n",
              "        (() => {\n",
              "          let quickchartButtonEl =\n",
              "            document.querySelector('#df-d026776f-495d-4445-a3eb-757bf9ebf9e5 button');\n",
              "          quickchartButtonEl.style.display =\n",
              "            google.colab.kernel.accessAllowed ? 'block' : 'none';\n",
              "        })();\n",
              "      </script>\n",
              "    </div>\n",
              "\n",
              "    </div>\n",
              "  </div>\n"
            ],
            "application/vnd.google.colaboratory.intrinsic+json": {
              "type": "dataframe",
              "variable_name": "competitor_data",
              "summary": "{\n  \"name\": \"competitor_data\",\n  \"rows\": 2700,\n  \"fields\": [\n    {\n      \"column\": \"Date\",\n      \"properties\": {\n        \"dtype\": \"object\",\n        \"num_unique_values\": 30,\n        \"samples\": [\n          \"2025-06-18\",\n          \"2025-06-06\",\n          \"2025-06-14\"\n        ],\n        \"semantic_type\": \"\",\n        \"description\": \"\"\n      }\n    },\n    {\n      \"column\": \"Flight Number\",\n      \"properties\": {\n        \"dtype\": \"category\",\n        \"num_unique_values\": 10,\n        \"samples\": [\n          \"FL108\",\n          \"FL101\",\n          \"FL105\"\n        ],\n        \"semantic_type\": \"\",\n        \"description\": \"\"\n      }\n    },\n    {\n      \"column\": \"Competitor\",\n      \"properties\": {\n        \"dtype\": \"category\",\n        \"num_unique_values\": 3,\n        \"samples\": [\n          \"Delta\",\n          \"United\",\n          \"Southwest\"\n        ],\n        \"semantic_type\": \"\",\n        \"description\": \"\"\n      }\n    },\n    {\n      \"column\": \"Fare Class\",\n      \"properties\": {\n        \"dtype\": \"category\",\n        \"num_unique_values\": 3,\n        \"samples\": [\n          \"Economy\",\n          \"Premium Economy\",\n          \"Business\"\n        ],\n        \"semantic_type\": \"\",\n        \"description\": \"\"\n      }\n    },\n    {\n      \"column\": \"Price\",\n      \"properties\": {\n        \"dtype\": \"number\",\n        \"std\": 123.50022598050796,\n        \"min\": 90.43,\n        \"max\": 519.76,\n        \"num_unique_values\": 2638,\n        \"samples\": [\n          376.91,\n          497.54,\n          264.63\n        ],\n        \"semantic_type\": \"\",\n        \"description\": \"\"\n      }\n    }\n  ]\n}"
            }
          },
          "metadata": {},
          "execution_count": 5
        }
      ]
    },
    {
      "cell_type": "code",
      "source": [
        "import pandas as pd\n",
        "import numpy as np\n",
        "import matplotlib.pyplot as plt\n",
        "import seaborn as sns\n",
        "from sklearn.model_selection import train_test_split\n",
        "from sklearn.ensemble import RandomForestRegressor\n",
        "from sklearn.tree import DecisionTreeRegressor\n",
        "from sklearn.metrics import r2_score, mean_absolute_error, mean_squared_error\n",
        "from sklearn.preprocessing import LabelEncoder\n",
        "import warnings\n",
        "warnings.filterwarnings('ignore')"
      ],
      "metadata": {
        "id": "EC5seqT6vSna"
      },
      "execution_count": null,
      "outputs": []
    },
    {
      "cell_type": "code",
      "source": [
        "print(f\"Inventory data shape: {inventory_data.shape}\")\n",
        "print(f\"Competitor data shape: {competitor_data.shape}\")\n",
        "print(f\"Booking data shape: {booking_data.shape}\")"
      ],
      "metadata": {
        "colab": {
          "base_uri": "https://localhost:8080/"
        },
        "id": "C8HfVAaiv8z8",
        "outputId": "494c8b61-c0f0-4908-b659-d973ba576147"
      },
      "execution_count": null,
      "outputs": [
        {
          "output_type": "stream",
          "name": "stdout",
          "text": [
            "Inventory data shape: (300, 6)\n",
            "Competitor data shape: (2700, 5)\n",
            "Booking data shape: (2963, 8)\n"
          ]
        }
      ]
    },
    {
      "cell_type": "code",
      "source": [
        "# Step 1: Data Cleaning and Preparation\n",
        "print(\"\\n=== STEP 1: DATA CLEANING ===\")\n",
        "\n",
        "# Clean inventory data\n",
        "inventory_data['Date'] = pd.to_datetime(inventory_data['Date'])\n",
        "inventory_data = inventory_data.dropna()\n",
        "# Clean competitor data\n",
        "competitor_data['Date'] = pd.to_datetime(competitor_data['Date'])\n",
        "competitor_data = competitor_data.dropna()\n",
        "\n",
        "# Clean booking data\n",
        "booking_data['Date of Booking'] = pd.to_datetime(booking_data['Date of Booking'])\n",
        "booking_data['Travel Date'] = pd.to_datetime(booking_data['Travel Date'])\n",
        "booking_data = booking_data.dropna()"
      ],
      "metadata": {
        "colab": {
          "base_uri": "https://localhost:8080/"
        },
        "id": "40GhkERfvdRq",
        "outputId": "bc1e87ab-5582-4ff4-a5e7-5e1f7151b0dc"
      },
      "execution_count": null,
      "outputs": [
        {
          "output_type": "stream",
          "name": "stdout",
          "text": [
            "\n",
            "=== STEP 1: DATA CLEANING ===\n"
          ]
        }
      ]
    },
    {
      "cell_type": "code",
      "source": [
        "# Calculate average competitor prices by flight and date\n",
        "competitor_avg = competitor_data.groupby(['Date', 'Flight Number', 'Fare Class'])['Price'].mean().reset_index()\n",
        "competitor_avg.rename(columns={'Price': 'Competitor_Avg_Price'}, inplace=True)"
      ],
      "metadata": {
        "id": "vAKQOGCAwQu_"
      },
      "execution_count": null,
      "outputs": []
    },
    {
      "cell_type": "code",
      "source": [
        "# First merge inventory with booking data\n",
        "merged_data = inventory_data.merge(\n",
        "    booking_data,\n",
        "    left_on=['Flight Number', 'Date'],\n",
        "    right_on=['Flight Number', 'Travel Date'],\n",
        "    how='left'\n",
        ")"
      ],
      "metadata": {
        "id": "B2TvMdEKwYHo"
      },
      "execution_count": null,
      "outputs": []
    },
    {
      "cell_type": "code",
      "source": [
        "# Add competitor pricing data\n",
        "merged_data = merged_data.merge(\n",
        "    competitor_avg,\n",
        "    left_on=['Date', 'Flight Number', 'Fare Class'],\n",
        "    right_on=['Date', 'Flight Number', 'Fare Class'],\n",
        "    how='left'\n",
        ")"
      ],
      "metadata": {
        "id": "MJW8OqemwhGz"
      },
      "execution_count": null,
      "outputs": []
    },
    {
      "cell_type": "code",
      "source": [
        "# Calculate revenue (our target variable)\n",
        "merged_data['Revenue'] = merged_data['Price'] * merged_data['Seats Booked']\n",
        "merged_data['Revenue'].fillna(0, inplace=True)"
      ],
      "metadata": {
        "id": "bUFbCpwjwkrB"
      },
      "execution_count": null,
      "outputs": []
    },
    {
      "cell_type": "code",
      "source": [
        "# Fill missing competitor prices with median\n",
        "merged_data['Competitor_Avg_Price'].fillna(\n",
        "    merged_data['Competitor_Avg_Price'].median(),\n",
        "    inplace=True\n",
        ")\n",
        "print(\"Data cleaning completed!\")\n",
        "print(f\"Final merged data shape: {merged_data.shape}\")\n"
      ],
      "metadata": {
        "colab": {
          "base_uri": "https://localhost:8080/"
        },
        "id": "TL8b89Xtwson",
        "outputId": "be013788-144c-45b3-bd75-55339af6cdc0"
      },
      "execution_count": null,
      "outputs": [
        {
          "output_type": "stream",
          "name": "stdout",
          "text": [
            "Data cleaning completed!\n",
            "Final merged data shape: (2963, 15)\n"
          ]
        }
      ]
    },
    {
      "cell_type": "markdown",
      "source": [],
      "metadata": {
        "id": "9t7NaSy9ALaN"
      }
    },
    {
      "cell_type": "code",
      "source": [
        "merged_data.head()"
      ],
      "metadata": {
        "colab": {
          "base_uri": "https://localhost:8080/",
          "height": 330
        },
        "id": "-8hK9FVp_277",
        "outputId": "cb42da34-ca93-427c-a790-5200048a47cd"
      },
      "execution_count": null,
      "outputs": [
        {
          "output_type": "execute_result",
          "data": {
            "text/plain": [
              "  Flight Number       Date Aircraft Type  Total Seats  Booked Seats  \\\n",
              "0         FL100 2025-05-22          B737          180           150   \n",
              "1         FL100 2025-05-22          B737          180           150   \n",
              "2         FL100 2025-05-22          B737          180           150   \n",
              "3         FL100 2025-05-22          B737          180           150   \n",
              "4         FL100 2025-05-22          B737          180           150   \n",
              "\n",
              "   Remaining Seats Booking ID Date of Booking Travel Date       Fare Class  \\\n",
              "0               30     B63032      2025-05-19  2025-05-22          Economy   \n",
              "1               30     B60060      2025-05-18  2025-05-22          Economy   \n",
              "2               30     B62690      2025-05-05  2025-05-22         Business   \n",
              "3               30     B90229      2025-05-12  2025-05-22          Economy   \n",
              "4               30     B36959      2025-05-08  2025-05-22  Premium Economy   \n",
              "\n",
              "    Price  Seats Booked Channel  Competitor_Avg_Price  Revenue  \n",
              "0  400.21             3     Web            248.296667  1200.63  \n",
              "1  346.57             2   Agent            248.296667   693.14  \n",
              "2  339.37             1     Web            252.423333   339.37  \n",
              "3  231.38             3   Agent            248.296667   694.14  \n",
              "4  468.72             1     Web            322.560000   468.72  "
            ],
            "text/html": [
              "\n",
              "  <div id=\"df-f7d849af-1f91-4dad-a4e0-bf673f574375\" class=\"colab-df-container\">\n",
              "    <div>\n",
              "<style scoped>\n",
              "    .dataframe tbody tr th:only-of-type {\n",
              "        vertical-align: middle;\n",
              "    }\n",
              "\n",
              "    .dataframe tbody tr th {\n",
              "        vertical-align: top;\n",
              "    }\n",
              "\n",
              "    .dataframe thead th {\n",
              "        text-align: right;\n",
              "    }\n",
              "</style>\n",
              "<table border=\"1\" class=\"dataframe\">\n",
              "  <thead>\n",
              "    <tr style=\"text-align: right;\">\n",
              "      <th></th>\n",
              "      <th>Flight Number</th>\n",
              "      <th>Date</th>\n",
              "      <th>Aircraft Type</th>\n",
              "      <th>Total Seats</th>\n",
              "      <th>Booked Seats</th>\n",
              "      <th>Remaining Seats</th>\n",
              "      <th>Booking ID</th>\n",
              "      <th>Date of Booking</th>\n",
              "      <th>Travel Date</th>\n",
              "      <th>Fare Class</th>\n",
              "      <th>Price</th>\n",
              "      <th>Seats Booked</th>\n",
              "      <th>Channel</th>\n",
              "      <th>Competitor_Avg_Price</th>\n",
              "      <th>Revenue</th>\n",
              "    </tr>\n",
              "  </thead>\n",
              "  <tbody>\n",
              "    <tr>\n",
              "      <th>0</th>\n",
              "      <td>FL100</td>\n",
              "      <td>2025-05-22</td>\n",
              "      <td>B737</td>\n",
              "      <td>180</td>\n",
              "      <td>150</td>\n",
              "      <td>30</td>\n",
              "      <td>B63032</td>\n",
              "      <td>2025-05-19</td>\n",
              "      <td>2025-05-22</td>\n",
              "      <td>Economy</td>\n",
              "      <td>400.21</td>\n",
              "      <td>3</td>\n",
              "      <td>Web</td>\n",
              "      <td>248.296667</td>\n",
              "      <td>1200.63</td>\n",
              "    </tr>\n",
              "    <tr>\n",
              "      <th>1</th>\n",
              "      <td>FL100</td>\n",
              "      <td>2025-05-22</td>\n",
              "      <td>B737</td>\n",
              "      <td>180</td>\n",
              "      <td>150</td>\n",
              "      <td>30</td>\n",
              "      <td>B60060</td>\n",
              "      <td>2025-05-18</td>\n",
              "      <td>2025-05-22</td>\n",
              "      <td>Economy</td>\n",
              "      <td>346.57</td>\n",
              "      <td>2</td>\n",
              "      <td>Agent</td>\n",
              "      <td>248.296667</td>\n",
              "      <td>693.14</td>\n",
              "    </tr>\n",
              "    <tr>\n",
              "      <th>2</th>\n",
              "      <td>FL100</td>\n",
              "      <td>2025-05-22</td>\n",
              "      <td>B737</td>\n",
              "      <td>180</td>\n",
              "      <td>150</td>\n",
              "      <td>30</td>\n",
              "      <td>B62690</td>\n",
              "      <td>2025-05-05</td>\n",
              "      <td>2025-05-22</td>\n",
              "      <td>Business</td>\n",
              "      <td>339.37</td>\n",
              "      <td>1</td>\n",
              "      <td>Web</td>\n",
              "      <td>252.423333</td>\n",
              "      <td>339.37</td>\n",
              "    </tr>\n",
              "    <tr>\n",
              "      <th>3</th>\n",
              "      <td>FL100</td>\n",
              "      <td>2025-05-22</td>\n",
              "      <td>B737</td>\n",
              "      <td>180</td>\n",
              "      <td>150</td>\n",
              "      <td>30</td>\n",
              "      <td>B90229</td>\n",
              "      <td>2025-05-12</td>\n",
              "      <td>2025-05-22</td>\n",
              "      <td>Economy</td>\n",
              "      <td>231.38</td>\n",
              "      <td>3</td>\n",
              "      <td>Agent</td>\n",
              "      <td>248.296667</td>\n",
              "      <td>694.14</td>\n",
              "    </tr>\n",
              "    <tr>\n",
              "      <th>4</th>\n",
              "      <td>FL100</td>\n",
              "      <td>2025-05-22</td>\n",
              "      <td>B737</td>\n",
              "      <td>180</td>\n",
              "      <td>150</td>\n",
              "      <td>30</td>\n",
              "      <td>B36959</td>\n",
              "      <td>2025-05-08</td>\n",
              "      <td>2025-05-22</td>\n",
              "      <td>Premium Economy</td>\n",
              "      <td>468.72</td>\n",
              "      <td>1</td>\n",
              "      <td>Web</td>\n",
              "      <td>322.560000</td>\n",
              "      <td>468.72</td>\n",
              "    </tr>\n",
              "  </tbody>\n",
              "</table>\n",
              "</div>\n",
              "    <div class=\"colab-df-buttons\">\n",
              "\n",
              "  <div class=\"colab-df-container\">\n",
              "    <button class=\"colab-df-convert\" onclick=\"convertToInteractive('df-f7d849af-1f91-4dad-a4e0-bf673f574375')\"\n",
              "            title=\"Convert this dataframe to an interactive table.\"\n",
              "            style=\"display:none;\">\n",
              "\n",
              "  <svg xmlns=\"http://www.w3.org/2000/svg\" height=\"24px\" viewBox=\"0 -960 960 960\">\n",
              "    <path d=\"M120-120v-720h720v720H120Zm60-500h600v-160H180v160Zm220 220h160v-160H400v160Zm0 220h160v-160H400v160ZM180-400h160v-160H180v160Zm440 0h160v-160H620v160ZM180-180h160v-160H180v160Zm440 0h160v-160H620v160Z\"/>\n",
              "  </svg>\n",
              "    </button>\n",
              "\n",
              "  <style>\n",
              "    .colab-df-container {\n",
              "      display:flex;\n",
              "      gap: 12px;\n",
              "    }\n",
              "\n",
              "    .colab-df-convert {\n",
              "      background-color: #E8F0FE;\n",
              "      border: none;\n",
              "      border-radius: 50%;\n",
              "      cursor: pointer;\n",
              "      display: none;\n",
              "      fill: #1967D2;\n",
              "      height: 32px;\n",
              "      padding: 0 0 0 0;\n",
              "      width: 32px;\n",
              "    }\n",
              "\n",
              "    .colab-df-convert:hover {\n",
              "      background-color: #E2EBFA;\n",
              "      box-shadow: 0px 1px 2px rgba(60, 64, 67, 0.3), 0px 1px 3px 1px rgba(60, 64, 67, 0.15);\n",
              "      fill: #174EA6;\n",
              "    }\n",
              "\n",
              "    .colab-df-buttons div {\n",
              "      margin-bottom: 4px;\n",
              "    }\n",
              "\n",
              "    [theme=dark] .colab-df-convert {\n",
              "      background-color: #3B4455;\n",
              "      fill: #D2E3FC;\n",
              "    }\n",
              "\n",
              "    [theme=dark] .colab-df-convert:hover {\n",
              "      background-color: #434B5C;\n",
              "      box-shadow: 0px 1px 3px 1px rgba(0, 0, 0, 0.15);\n",
              "      filter: drop-shadow(0px 1px 2px rgba(0, 0, 0, 0.3));\n",
              "      fill: #FFFFFF;\n",
              "    }\n",
              "  </style>\n",
              "\n",
              "    <script>\n",
              "      const buttonEl =\n",
              "        document.querySelector('#df-f7d849af-1f91-4dad-a4e0-bf673f574375 button.colab-df-convert');\n",
              "      buttonEl.style.display =\n",
              "        google.colab.kernel.accessAllowed ? 'block' : 'none';\n",
              "\n",
              "      async function convertToInteractive(key) {\n",
              "        const element = document.querySelector('#df-f7d849af-1f91-4dad-a4e0-bf673f574375');\n",
              "        const dataTable =\n",
              "          await google.colab.kernel.invokeFunction('convertToInteractive',\n",
              "                                                    [key], {});\n",
              "        if (!dataTable) return;\n",
              "\n",
              "        const docLinkHtml = 'Like what you see? Visit the ' +\n",
              "          '<a target=\"_blank\" href=https://colab.research.google.com/notebooks/data_table.ipynb>data table notebook</a>'\n",
              "          + ' to learn more about interactive tables.';\n",
              "        element.innerHTML = '';\n",
              "        dataTable['output_type'] = 'display_data';\n",
              "        await google.colab.output.renderOutput(dataTable, element);\n",
              "        const docLink = document.createElement('div');\n",
              "        docLink.innerHTML = docLinkHtml;\n",
              "        element.appendChild(docLink);\n",
              "      }\n",
              "    </script>\n",
              "  </div>\n",
              "\n",
              "\n",
              "    <div id=\"df-041bb738-136f-43f6-b506-1778b8ac250a\">\n",
              "      <button class=\"colab-df-quickchart\" onclick=\"quickchart('df-041bb738-136f-43f6-b506-1778b8ac250a')\"\n",
              "                title=\"Suggest charts\"\n",
              "                style=\"display:none;\">\n",
              "\n",
              "<svg xmlns=\"http://www.w3.org/2000/svg\" height=\"24px\"viewBox=\"0 0 24 24\"\n",
              "     width=\"24px\">\n",
              "    <g>\n",
              "        <path d=\"M19 3H5c-1.1 0-2 .9-2 2v14c0 1.1.9 2 2 2h14c1.1 0 2-.9 2-2V5c0-1.1-.9-2-2-2zM9 17H7v-7h2v7zm4 0h-2V7h2v10zm4 0h-2v-4h2v4z\"/>\n",
              "    </g>\n",
              "</svg>\n",
              "      </button>\n",
              "\n",
              "<style>\n",
              "  .colab-df-quickchart {\n",
              "      --bg-color: #E8F0FE;\n",
              "      --fill-color: #1967D2;\n",
              "      --hover-bg-color: #E2EBFA;\n",
              "      --hover-fill-color: #174EA6;\n",
              "      --disabled-fill-color: #AAA;\n",
              "      --disabled-bg-color: #DDD;\n",
              "  }\n",
              "\n",
              "  [theme=dark] .colab-df-quickchart {\n",
              "      --bg-color: #3B4455;\n",
              "      --fill-color: #D2E3FC;\n",
              "      --hover-bg-color: #434B5C;\n",
              "      --hover-fill-color: #FFFFFF;\n",
              "      --disabled-bg-color: #3B4455;\n",
              "      --disabled-fill-color: #666;\n",
              "  }\n",
              "\n",
              "  .colab-df-quickchart {\n",
              "    background-color: var(--bg-color);\n",
              "    border: none;\n",
              "    border-radius: 50%;\n",
              "    cursor: pointer;\n",
              "    display: none;\n",
              "    fill: var(--fill-color);\n",
              "    height: 32px;\n",
              "    padding: 0;\n",
              "    width: 32px;\n",
              "  }\n",
              "\n",
              "  .colab-df-quickchart:hover {\n",
              "    background-color: var(--hover-bg-color);\n",
              "    box-shadow: 0 1px 2px rgba(60, 64, 67, 0.3), 0 1px 3px 1px rgba(60, 64, 67, 0.15);\n",
              "    fill: var(--button-hover-fill-color);\n",
              "  }\n",
              "\n",
              "  .colab-df-quickchart-complete:disabled,\n",
              "  .colab-df-quickchart-complete:disabled:hover {\n",
              "    background-color: var(--disabled-bg-color);\n",
              "    fill: var(--disabled-fill-color);\n",
              "    box-shadow: none;\n",
              "  }\n",
              "\n",
              "  .colab-df-spinner {\n",
              "    border: 2px solid var(--fill-color);\n",
              "    border-color: transparent;\n",
              "    border-bottom-color: var(--fill-color);\n",
              "    animation:\n",
              "      spin 1s steps(1) infinite;\n",
              "  }\n",
              "\n",
              "  @keyframes spin {\n",
              "    0% {\n",
              "      border-color: transparent;\n",
              "      border-bottom-color: var(--fill-color);\n",
              "      border-left-color: var(--fill-color);\n",
              "    }\n",
              "    20% {\n",
              "      border-color: transparent;\n",
              "      border-left-color: var(--fill-color);\n",
              "      border-top-color: var(--fill-color);\n",
              "    }\n",
              "    30% {\n",
              "      border-color: transparent;\n",
              "      border-left-color: var(--fill-color);\n",
              "      border-top-color: var(--fill-color);\n",
              "      border-right-color: var(--fill-color);\n",
              "    }\n",
              "    40% {\n",
              "      border-color: transparent;\n",
              "      border-right-color: var(--fill-color);\n",
              "      border-top-color: var(--fill-color);\n",
              "    }\n",
              "    60% {\n",
              "      border-color: transparent;\n",
              "      border-right-color: var(--fill-color);\n",
              "    }\n",
              "    80% {\n",
              "      border-color: transparent;\n",
              "      border-right-color: var(--fill-color);\n",
              "      border-bottom-color: var(--fill-color);\n",
              "    }\n",
              "    90% {\n",
              "      border-color: transparent;\n",
              "      border-bottom-color: var(--fill-color);\n",
              "    }\n",
              "  }\n",
              "</style>\n",
              "\n",
              "      <script>\n",
              "        async function quickchart(key) {\n",
              "          const quickchartButtonEl =\n",
              "            document.querySelector('#' + key + ' button');\n",
              "          quickchartButtonEl.disabled = true;  // To prevent multiple clicks.\n",
              "          quickchartButtonEl.classList.add('colab-df-spinner');\n",
              "          try {\n",
              "            const charts = await google.colab.kernel.invokeFunction(\n",
              "                'suggestCharts', [key], {});\n",
              "          } catch (error) {\n",
              "            console.error('Error during call to suggestCharts:', error);\n",
              "          }\n",
              "          quickchartButtonEl.classList.remove('colab-df-spinner');\n",
              "          quickchartButtonEl.classList.add('colab-df-quickchart-complete');\n",
              "        }\n",
              "        (() => {\n",
              "          let quickchartButtonEl =\n",
              "            document.querySelector('#df-041bb738-136f-43f6-b506-1778b8ac250a button');\n",
              "          quickchartButtonEl.style.display =\n",
              "            google.colab.kernel.accessAllowed ? 'block' : 'none';\n",
              "        })();\n",
              "      </script>\n",
              "    </div>\n",
              "\n",
              "    </div>\n",
              "  </div>\n"
            ],
            "application/vnd.google.colaboratory.intrinsic+json": {
              "type": "dataframe",
              "variable_name": "merged_data",
              "summary": "{\n  \"name\": \"merged_data\",\n  \"rows\": 2963,\n  \"fields\": [\n    {\n      \"column\": \"Flight Number\",\n      \"properties\": {\n        \"dtype\": \"category\",\n        \"num_unique_values\": 10,\n        \"samples\": [\n          \"FL108\",\n          \"FL101\",\n          \"FL105\"\n        ],\n        \"semantic_type\": \"\",\n        \"description\": \"\"\n      }\n    },\n    {\n      \"column\": \"Date\",\n      \"properties\": {\n        \"dtype\": \"date\",\n        \"min\": \"2025-05-22 00:00:00\",\n        \"max\": \"2025-06-20 00:00:00\",\n        \"num_unique_values\": 30,\n        \"samples\": [\n          \"2025-06-18 00:00:00\",\n          \"2025-06-06 00:00:00\",\n          \"2025-06-14 00:00:00\"\n        ],\n        \"semantic_type\": \"\",\n        \"description\": \"\"\n      }\n    },\n    {\n      \"column\": \"Aircraft Type\",\n      \"properties\": {\n        \"dtype\": \"category\",\n        \"num_unique_values\": 3,\n        \"samples\": [\n          \"B737\",\n          \"A321\",\n          \"A320\"\n        ],\n        \"semantic_type\": \"\",\n        \"description\": \"\"\n      }\n    },\n    {\n      \"column\": \"Total Seats\",\n      \"properties\": {\n        \"dtype\": \"number\",\n        \"std\": 0,\n        \"min\": 180,\n        \"max\": 180,\n        \"num_unique_values\": 1,\n        \"samples\": [\n          180\n        ],\n        \"semantic_type\": \"\",\n        \"description\": \"\"\n      }\n    },\n    {\n      \"column\": \"Booked Seats\",\n      \"properties\": {\n        \"dtype\": \"number\",\n        \"std\": 19,\n        \"min\": 100,\n        \"max\": 170,\n        \"num_unique_values\": 71,\n        \"samples\": [\n          142\n        ],\n        \"semantic_type\": \"\",\n        \"description\": \"\"\n      }\n    },\n    {\n      \"column\": \"Remaining Seats\",\n      \"properties\": {\n        \"dtype\": \"number\",\n        \"std\": 19,\n        \"min\": 10,\n        \"max\": 80,\n        \"num_unique_values\": 71,\n        \"samples\": [\n          38\n        ],\n        \"semantic_type\": \"\",\n        \"description\": \"\"\n      }\n    },\n    {\n      \"column\": \"Booking ID\",\n      \"properties\": {\n        \"dtype\": \"string\",\n        \"num_unique_values\": 2919,\n        \"samples\": [\n          \"B21041\"\n        ],\n        \"semantic_type\": \"\",\n        \"description\": \"\"\n      }\n    },\n    {\n      \"column\": \"Date of Booking\",\n      \"properties\": {\n        \"dtype\": \"date\",\n        \"min\": \"2025-04-22 00:00:00\",\n        \"max\": \"2025-06-19 00:00:00\",\n        \"num_unique_values\": 59,\n        \"samples\": [\n          \"2025-05-19 00:00:00\"\n        ],\n        \"semantic_type\": \"\",\n        \"description\": \"\"\n      }\n    },\n    {\n      \"column\": \"Travel Date\",\n      \"properties\": {\n        \"dtype\": \"date\",\n        \"min\": \"2025-05-22 00:00:00\",\n        \"max\": \"2025-06-20 00:00:00\",\n        \"num_unique_values\": 30,\n        \"samples\": [\n          \"2025-06-18 00:00:00\"\n        ],\n        \"semantic_type\": \"\",\n        \"description\": \"\"\n      }\n    },\n    {\n      \"column\": \"Fare Class\",\n      \"properties\": {\n        \"dtype\": \"category\",\n        \"num_unique_values\": 3,\n        \"samples\": [\n          \"Economy\"\n        ],\n        \"semantic_type\": \"\",\n        \"description\": \"\"\n      }\n    },\n    {\n      \"column\": \"Price\",\n      \"properties\": {\n        \"dtype\": \"number\",\n        \"std\": 116.56181295275763,\n        \"min\": 100.04,\n        \"max\": 499.58,\n        \"num_unique_values\": 2847,\n        \"samples\": [\n          279.87\n        ],\n        \"semantic_type\": \"\",\n        \"description\": \"\"\n      }\n    },\n    {\n      \"column\": \"Seats Booked\",\n      \"properties\": {\n        \"dtype\": \"number\",\n        \"std\": 0,\n        \"min\": 1,\n        \"max\": 3,\n        \"num_unique_values\": 3,\n        \"samples\": [\n          3\n        ],\n        \"semantic_type\": \"\",\n        \"description\": \"\"\n      }\n    },\n    {\n      \"column\": \"Channel\",\n      \"properties\": {\n        \"dtype\": \"category\",\n        \"num_unique_values\": 3,\n        \"samples\": [\n          \"Web\"\n        ],\n        \"semantic_type\": \"\",\n        \"description\": \"\"\n      }\n    },\n    {\n      \"column\": \"Competitor_Avg_Price\",\n      \"properties\": {\n        \"dtype\": \"number\",\n        \"std\": 68.55796844063427,\n        \"min\": 116.01666666666667,\n        \"max\": 492.8766666666667,\n        \"num_unique_values\": 862,\n        \"samples\": [\n          267.4166666666667\n        ],\n        \"semantic_type\": \"\",\n        \"description\": \"\"\n      }\n    },\n    {\n      \"column\": \"Revenue\",\n      \"properties\": {\n        \"dtype\": \"number\",\n        \"std\": 354.56233218242414,\n        \"min\": 100.06,\n        \"max\": 1498.5,\n        \"num_unique_values\": 2900,\n        \"samples\": [\n          585.56\n        ],\n        \"semantic_type\": \"\",\n        \"description\": \"\"\n      }\n    }\n  ]\n}"
            }
          },
          "metadata": {},
          "execution_count": 14
        }
      ]
    },
    {
      "cell_type": "code",
      "source": [
        "# Step 2: Feature Engineering and Encoding\n",
        "print(\"\\n=== STEP 2: FEATURE ENGINEERING & ENCODING ===\")\n",
        "\n",
        "# Create additional features\n",
        "merged_data['Load_Factor'] = merged_data['Booked Seats'] / merged_data['Total Seats']\n",
        "merged_data['Days_Before_Travel'] = (merged_data['Travel Date'] - merged_data['Date of Booking']).dt.days\n",
        "merged_data['Month'] = merged_data['Date'].dt.month\n",
        "merged_data['Day_of_Week'] = merged_data['Date'].dt.dayofweek\n",
        "merged_data['Price_vs_Competitor'] = merged_data['Price'] / merged_data['Competitor_Avg_Price']"
      ],
      "metadata": {
        "colab": {
          "base_uri": "https://localhost:8080/"
        },
        "id": "AY1mj_hJw4TP",
        "outputId": "d1e61cd6-3899-45cc-c493-c562e147ea9c"
      },
      "execution_count": null,
      "outputs": [
        {
          "output_type": "stream",
          "name": "stdout",
          "text": [
            "\n",
            "=== STEP 2: FEATURE ENGINEERING & ENCODING ===\n"
          ]
        }
      ]
    },
    {
      "cell_type": "code",
      "source": [
        "# Handle missing values in new features\n",
        "merged_data['Days_Before_Travel'].fillna(merged_data['Days_Before_Travel'].median(), inplace=True)\n",
        "merged_data['Price_vs_Competitor'].fillna(1.0, inplace=True)"
      ],
      "metadata": {
        "id": "lBPzE92LxOqH"
      },
      "execution_count": null,
      "outputs": []
    },
    {
      "cell_type": "code",
      "source": [
        "# Encoding categorical variables\n",
        "label_encoders = {}\n",
        "categorical_cols = ['Aircraft Type', 'Fare Class', 'Channel', 'Flight Number']\n",
        "\n",
        "for col in categorical_cols:\n",
        "    if col in merged_data.columns:\n",
        "        le = LabelEncoder()\n",
        "        merged_data[f'{col}_Encoded'] = le.fit_transform(merged_data[col].astype(str))\n",
        "        label_encoders[col] = le\n",
        "\n",
        "print(\"Encoding completed!\")\n"
      ],
      "metadata": {
        "colab": {
          "base_uri": "https://localhost:8080/"
        },
        "id": "gdKXrXcSxS7X",
        "outputId": "a2fc24d8-518f-4d1c-c507-f02e382a805c"
      },
      "execution_count": null,
      "outputs": [
        {
          "output_type": "stream",
          "name": "stdout",
          "text": [
            "Encoding completed!\n"
          ]
        }
      ]
    },
    {
      "cell_type": "code",
      "source": [
        "# Prepare feature matrix and target\n",
        "feature_cols = [\n",
        "    'Total Seats', 'Booked Seats', 'Remaining Seats', 'Price',\n",
        "    'Seats Booked', 'Load_Factor', 'Days_Before_Travel',\n",
        "    'Month', 'Day_of_Week', 'Competitor_Avg_Price', 'Price_vs_Competitor',\n",
        "    'Aircraft Type_Encoded', 'Fare Class_Encoded', 'Channel_Encoded', 'Flight Number_Encoded'\n",
        "]"
      ],
      "metadata": {
        "id": "avDrih0Txb66"
      },
      "execution_count": null,
      "outputs": []
    },
    {
      "cell_type": "code",
      "source": [
        "# Filter available columns\n",
        "available_cols = [col for col in feature_cols if col in merged_data.columns]\n",
        "X = merged_data[available_cols].copy()\n",
        "y = merged_data['Revenue'].copy()"
      ],
      "metadata": {
        "id": "UYfpjIu7xjHE"
      },
      "execution_count": null,
      "outputs": []
    },
    {
      "cell_type": "code",
      "source": [
        "# Remove rows with missing target values\n",
        "mask = ~y.isna()\n",
        "X = X[mask]\n",
        "y = y[mask]"
      ],
      "metadata": {
        "id": "HVyLiN8YxseZ"
      },
      "execution_count": null,
      "outputs": []
    },
    {
      "cell_type": "code",
      "source": [
        "# Fill remaining missing values\n",
        "X = X.fillna(X.median())\n",
        "\n",
        "print(f\"Feature matrix shape: {X.shape}\")\n",
        "print(f\"Target vector shape: {y.shape}\")"
      ],
      "metadata": {
        "colab": {
          "base_uri": "https://localhost:8080/"
        },
        "id": "6BiQvQoCxx4y",
        "outputId": "9eff24dd-ce74-4944-9b81-b3f2587572d7"
      },
      "execution_count": null,
      "outputs": [
        {
          "output_type": "stream",
          "name": "stdout",
          "text": [
            "Feature matrix shape: (2963, 15)\n",
            "Target vector shape: (2963,)\n"
          ]
        }
      ]
    },
    {
      "cell_type": "code",
      "source": [
        "# Step 3: Train-Test Split\n",
        "print(\"\\n=== STEP 3: TRAIN-TEST SPLIT ===\")\n",
        "\n",
        "X_train, X_test, y_train, y_test = train_test_split(\n",
        "    X, y, test_size=0.2, random_state=42\n",
        ")\n",
        "\n",
        "print(f\"Training set size: {X_train.shape[0]}\")\n",
        "print(f\"Test set size: {X_test.shape[0]}\")"
      ],
      "metadata": {
        "colab": {
          "base_uri": "https://localhost:8080/"
        },
        "id": "1V0ox73ex3BW",
        "outputId": "af079ae5-550e-45ac-a3e8-7de5c5de30e3"
      },
      "execution_count": null,
      "outputs": [
        {
          "output_type": "stream",
          "name": "stdout",
          "text": [
            "\n",
            "=== STEP 3: TRAIN-TEST SPLIT ===\n",
            "Training set size: 2370\n",
            "Test set size: 593\n"
          ]
        }
      ]
    },
    {
      "cell_type": "code",
      "source": [
        "# Step 4: Model Training and Evaluation\n",
        "print(\"\\n=== STEP 4: MODEL TRAINING & EVALUATION ===\")"
      ],
      "metadata": {
        "colab": {
          "base_uri": "https://localhost:8080/"
        },
        "id": "4MfJp1cmx9GW",
        "outputId": "fdd63eae-924f-4d9b-faec-de1e7f2698fa"
      },
      "execution_count": null,
      "outputs": [
        {
          "output_type": "stream",
          "name": "stdout",
          "text": [
            "\n",
            "=== STEP 4: MODEL TRAINING & EVALUATION ===\n"
          ]
        }
      ]
    },
    {
      "cell_type": "code",
      "source": [
        "# Initialize models\n",
        "models = {\n",
        "    'Decision Tree': DecisionTreeRegressor(random_state=42, max_depth=10),\n",
        "    'Random Forest': RandomForestRegressor(random_state=42, n_estimators=100, max_depth=10)\n",
        "}\n",
        "\n",
        "results = {}\n",
        "\n",
        "for name, model in models.items():\n",
        "    print(f\"\\nTraining {name}...\")\n",
        "    # Train model\n",
        "    model.fit(X_train, y_train)\n",
        "\n",
        "    # Make predictions\n",
        "    y_pred_train = model.predict(X_train)\n",
        "    y_pred_test = model.predict(X_test)"
      ],
      "metadata": {
        "colab": {
          "base_uri": "https://localhost:8080/"
        },
        "id": "sB2Vw9Y7yFM6",
        "outputId": "c26821c2-a770-433c-f6a9-10d031d3d447"
      },
      "execution_count": null,
      "outputs": [
        {
          "output_type": "stream",
          "name": "stdout",
          "text": [
            "\n",
            "Training Decision Tree...\n",
            "\n",
            "Training Random Forest...\n"
          ]
        }
      ]
    },
    {
      "cell_type": "code",
      "source": [
        "# Calculate metrics\n",
        "train_r2 = r2_score(y_train, y_pred_train)\n",
        "test_r2 = r2_score(y_test, y_pred_test)\n",
        "test_mae = mean_absolute_error(y_test, y_pred_test)\n",
        "test_rmse = np.sqrt(mean_squared_error(y_test, y_pred_test))\n",
        "\n",
        "results[name] = {\n",
        "    'model': model,\n",
        "    'train_r2': train_r2,\n",
        "    'test_r2': test_r2,\n",
        "    'mae': test_mae,\n",
        "    'rmse': test_rmse\n",
        "}\n",
        "print(f\"Train R²: {train_r2:.4f}\")\n",
        "print(f\"Test R²: {test_r2:.4f}\")\n",
        "print(f\"MAE: {test_mae:.2f}\")\n",
        "print(f\"RMSE: {test_rmse:.2f}\")"
      ],
      "metadata": {
        "colab": {
          "base_uri": "https://localhost:8080/"
        },
        "id": "iXWX4jnNyrh7",
        "outputId": "3af63500-8ab8-4ffc-be9c-a99a2e6047ed"
      },
      "execution_count": null,
      "outputs": [
        {
          "output_type": "stream",
          "name": "stdout",
          "text": [
            "Train R²: 1.0000\n",
            "Test R²: 1.0000\n",
            "MAE: 0.74\n",
            "RMSE: 1.09\n"
          ]
        }
      ]
    },
    {
      "cell_type": "code",
      "source": [
        "# Step 5: Select Best Model\n",
        "print(\"\\n=== STEP 5: BEST MODEL SELECTION ===\")\n",
        "\n",
        "best_model_name = max(results.keys(), key=lambda x: results[x]['test_r2'])\n",
        "best_model = results[best_model_name]['model']\n",
        "\n",
        "print(f\"Best Model: {best_model_name}\")\n",
        "print(f\"Best R² Score: {results[best_model_name]['test_r2']:.4f}\")\n",
        "print(f\"Best MAE: {results[best_model_name]['mae']:.2f}\")\n",
        "print(f\"Best RMSE: {results[best_model_name]['rmse']:.2f}\")"
      ],
      "metadata": {
        "colab": {
          "base_uri": "https://localhost:8080/"
        },
        "id": "cmNQVz_DzQE9",
        "outputId": "aaefad0b-90e2-4a6b-b205-76740de8bf9e"
      },
      "execution_count": null,
      "outputs": [
        {
          "output_type": "stream",
          "name": "stdout",
          "text": [
            "\n",
            "=== STEP 5: BEST MODEL SELECTION ===\n",
            "Best Model: Random Forest\n",
            "Best R² Score: 1.0000\n",
            "Best MAE: 0.74\n",
            "Best RMSE: 1.09\n"
          ]
        }
      ]
    },
    {
      "cell_type": "code",
      "source": [
        "# Step 6: Feature Importance Analysis\n",
        "print(\"\\n=== STEP 6: FEATURE IMPORTANCE ANALYSIS ===\")\n",
        "\n",
        "if hasattr(best_model, 'feature_importances_'):\n",
        "    feature_importance = pd.DataFrame({\n",
        "        'feature': X.columns,\n",
        "        'importance': best_model.feature_importances_\n",
        "    }).sort_values('importance', ascending=False)\n",
        "\n",
        "    print(\"Top 10 Most Important Features:\")\n",
        "    print(feature_importance.head(10))"
      ],
      "metadata": {
        "colab": {
          "base_uri": "https://localhost:8080/"
        },
        "id": "fF-JRGDDzSj_",
        "outputId": "ed7d9ac8-cee1-40d2-9f3a-8fe0a2ea5191"
      },
      "execution_count": null,
      "outputs": [
        {
          "output_type": "stream",
          "name": "stdout",
          "text": [
            "\n",
            "=== STEP 6: FEATURE IMPORTANCE ANALYSIS ===\n",
            "Top 10 Most Important Features:\n",
            "                  feature  importance\n",
            "4            Seats Booked    0.507420\n",
            "3                   Price    0.492560\n",
            "6      Days_Before_Travel    0.000002\n",
            "10    Price_vs_Competitor    0.000002\n",
            "2         Remaining Seats    0.000002\n",
            "9    Competitor_Avg_Price    0.000002\n",
            "14  Flight Number_Encoded    0.000002\n",
            "1            Booked Seats    0.000002\n",
            "8             Day_of_Week    0.000002\n",
            "5             Load_Factor    0.000002\n"
          ]
        }
      ]
    },
    {
      "cell_type": "code",
      "source": [
        "# Plot feature importance\n",
        "plt.figure(figsize=(12, 8))\n",
        "plt.subplot(2, 1, 1)\n",
        "sns.barplot(data=feature_importance.head(10), x='importance', y='feature')\n",
        "plt.title(f'Top 10 Feature Importance - {best_model_name}')\n",
        "plt.xlabel('Importance Score')"
      ],
      "metadata": {
        "colab": {
          "base_uri": "https://localhost:8080/",
          "height": 286
        },
        "id": "1XdmzYuLzY93",
        "outputId": "24356e8f-68a5-40b3-b0cf-8bb49047ecc5"
      },
      "execution_count": null,
      "outputs": [
        {
          "output_type": "execute_result",
          "data": {
            "text/plain": [
              "Text(0.5, 0, 'Importance Score')"
            ]
          },
          "metadata": {},
          "execution_count": 28
        },
        {
          "output_type": "display_data",
          "data": {
            "text/plain": [
              "<Figure size 1200x800 with 1 Axes>"
            ],
            "image/png": "[encoded data removed]"
          },
          "metadata": {}
        }
      ]
    },
    {
      "cell_type": "code",
      "source": [
        "# Model performance comparison\n",
        "plt.subplot(2, 1, 2)\n",
        "model_names = list(results.keys())\n",
        "r2_scores = [results[name]['test_r2'] for name in model_names]\n",
        "\n",
        "plt.bar(model_names, r2_scores)\n",
        "plt.title('Model Performance Comparison (R² Score)')\n",
        "plt.ylabel('R² Score')\n",
        "plt.xticks(rotation=45)\n",
        "\n",
        "plt.tight_layout()\n",
        "plt.show()"
      ],
      "metadata": {
        "colab": {
          "base_uri": "https://localhost:8080/",
          "height": 312
        },
        "id": "hX_tyw0Kzkpt",
        "outputId": "e036d0cc-23a9-4956-db31-ff79e686b4e4"
      },
      "execution_count": null,
      "outputs": [
        {
          "output_type": "display_data",
          "data": {
            "text/plain": [
              "<Figure size 640x480 with 1 Axes>"
            ],
            "image/png": "[encoded data removed]"
          },
          "metadata": {}
        }
      ]
    },
    {
      "cell_type": "code",
      "source": [
        "# Step 7: Revenue Analysis and Optimization\n",
        "print(\"\\n=== STEP 7: REVENUE ANALYSIS & OPTIMIZATION ===\")\n",
        "\n",
        "# Current revenue analysis\n",
        "current_revenue = merged_data['Revenue'].sum()\n",
        "avg_revenue_per_flight = merged_data.groupby('Flight Number')['Revenue'].mean()\n",
        "print(f\"Current Total Revenue: ${current_revenue:,.2f}\")\n",
        "print(f\"Average Revenue per Flight: ${avg_revenue_per_flight.mean():,.2f}\")\n"
      ],
      "metadata": {
        "colab": {
          "base_uri": "https://localhost:8080/"
        },
        "id": "rfcrcos4z22u",
        "outputId": "31fe84bf-04f4-4a30-a668-e542c82cf09c"
      },
      "execution_count": null,
      "outputs": [
        {
          "output_type": "stream",
          "name": "stdout",
          "text": [
            "\n",
            "=== STEP 7: REVENUE ANALYSIS & OPTIMIZATION ===\n",
            "Current Total Revenue: $1,799,256.15\n",
            "Average Revenue per Flight: $606.81\n"
          ]
        }
      ]
    },
    {
      "cell_type": "code",
      "source": [
        "# Revenue optimization simulation\n",
        "print(\"\\nRevenue Optimization Simulation:\")\n",
        "\n",
        "# Create scenarios for optimization\n",
        "optimization_scenarios = []"
      ],
      "metadata": {
        "colab": {
          "base_uri": "https://localhost:8080/"
        },
        "id": "nF2g4eV5z4Zi",
        "outputId": "e86eedac-8575-4610-b105-6582a11f64e5"
      },
      "execution_count": null,
      "outputs": [
        {
          "output_type": "stream",
          "name": "stdout",
          "text": [
            "\n",
            "Revenue Optimization Simulation:\n"
          ]
        }
      ]
    },
    {
      "cell_type": "code",
      "source": [
        "# Scenario 1: Optimize pricing based on competitor prices\n",
        "X_optimized_price = X.copy()\n",
        "price_col = 'Price'\n",
        "competitor_col = 'Competitor_Avg_Price'\n",
        "\n",
        "if price_col in X_optimized_price.columns and competitor_col in X_optimized_price.columns:\n",
        "    # Increase price by 5% when competitor price is higher\n",
        "    price_increase_mask = X_optimized_price[competitor_col] > X_optimized_price[price_col]\n",
        "    X_optimized_price.loc[price_increase_mask, price_col] *= 1.05"
      ],
      "metadata": {
        "id": "vJZAoTz90aeD"
      },
      "execution_count": null,
      "outputs": []
    },
    {
      "cell_type": "code",
      "source": [
        "# Scenario 2: Optimize load factor\n",
        "X_optimized_load = X.copy()\n",
        "load_factor_col = 'Load_Factor'\n",
        "\n",
        "if load_factor_col in X_optimized_load.columns:\n",
        "    # Improve load factor by 10% for flights with low load factor\n",
        "    low_load_mask = X_optimized_load[load_factor_col] < 0.8\n",
        "    X_optimized_load.loc[low_load_mask, load_factor_col] *= 1.1\n",
        "    X_optimized_load.loc[:, load_factor_col] = np.clip(X_optimized_load.loc[:, load_factor_col], 0, 1)"
      ],
      "metadata": {
        "id": "6XQkfSL-2NHS"
      },
      "execution_count": null,
      "outputs": []
    },
    {
      "cell_type": "code",
      "source": [
        "# Predict optimized revenues\n",
        "scenarios = {\n",
        "    'Current': X,\n",
        "    'Optimized_Pricing': X_optimized_price,\n",
        "    'Optimized_Load_Factor': X_optimized_load\n",
        "}\n",
        "\n",
        "scenario_results = {}\n",
        "for scenario_name, scenario_data in scenarios.items():\n",
        "    predicted_revenue = best_model.predict(scenario_data)\n",
        "    total_predicted_revenue = predicted_revenue.sum()\n",
        "    scenario_results[scenario_name] = total_predicted_revenue"
      ],
      "metadata": {
        "id": "eHXzPNcw0BYd"
      },
      "execution_count": null,
      "outputs": []
    },
    {
      "cell_type": "code",
      "source": [
        "# Calculate revenue increases\n",
        "base_revenue = scenario_results['Current']\n",
        "price_optimization_increase = scenario_results['Optimized_Pricing'] - base_revenue\n",
        "load_optimization_increase = scenario_results['Optimized_Load_Factor'] - base_revenue\n",
        "\n",
        "print(f\"\\nRevenue Optimization Results:\")\n",
        "print(f\"Current Predicted Revenue: ${base_revenue:,.2f}\")\n",
        "print(f\"Price Optimization Revenue: ${scenario_results['Optimized_Pricing']:,.2f}\")\n",
        "print(f\"Load Factor Optimization Revenue: ${scenario_results['Optimized_Load_Factor']:,.2f}\")\n",
        "print(f\"\\nRevenue Increases:\")\n",
        "print(f\"Price Optimization Increase: ${price_optimization_increase:,.2f} ({price_optimization_increase/base_revenue*100:.2f}%)\")\n",
        "print(f\"Load Factor Optimization Increase: ${load_optimization_increase:,.2f} ({load_optimization_increase/base_revenue*100:.2f}%)\")"
      ],
      "metadata": {
        "colab": {
          "base_uri": "https://localhost:8080/"
        },
        "id": "5n2gCulJ4sDZ",
        "outputId": "60dc4b62-652e-4e3e-a1e4-43a89351babb"
      },
      "execution_count": null,
      "outputs": [
        {
          "output_type": "stream",
          "name": "stdout",
          "text": [
            "\n",
            "Revenue Optimization Results:\n",
            "Current Predicted Revenue: $1,799,200.87\n",
            "Price Optimization Revenue: $1,829,504.14\n",
            "Load Factor Optimization Revenue: $1,799,196.38\n",
            "\n",
            "Revenue Increases:\n",
            "Price Optimization Increase: $30,303.27 (1.68%)\n",
            "Load Factor Optimization Increase: $-4.49 (-0.00%)\n"
          ]
        }
      ]
    },
    {
      "cell_type": "code",
      "source": [
        "# Step 8: Recommendations and Summary\n",
        "print(\"\\n=== STEP 8: RECOMMENDATIONS & SUMMARY ===\")\n",
        "\n",
        "print(\"\\n PROJECT SUMMARY:\")\n",
        "print(f\" Best Model: {best_model_name} with R² = {results[best_model_name]['test_r2']:.4f}\")\n",
        "print(f\" Current Revenue: ${current_revenue:,.2f}\")\n",
        "print(f\" Potential Revenue Increase: ${max(price_optimization_increase, load_optimization_increase):,.2f}\")\n",
        "if 'importance' in locals():\n",
        "    top_feature = feature_importance.iloc[0]['feature']\n",
        "    print(f\" Most Important Feature: {top_feature}\")\n",
        "\n",
        "print(\"\\n RECOMMENDATIONS:\")\n",
        "print(\"1. Focus on optimizing the most important features identified\")\n",
        "print(\"2. Implement dynamic pricing based on competitor analysis\")\n",
        "print(\"3. Improve load factors for flights with low utilization\")\n",
        "print(\"4. Monitor and adjust pricing strategies regularly\")"
      ],
      "metadata": {
        "colab": {
          "base_uri": "https://localhost:8080/"
        },
        "id": "svnfMIBg5ERu",
        "outputId": "62c82167-35ca-4dfd-f9bc-0f0240506a12"
      },
      "execution_count": null,
      "outputs": [
        {
          "output_type": "stream",
          "name": "stdout",
          "text": [
            "\n",
            "=== STEP 8: RECOMMENDATIONS & SUMMARY ===\n",
            "\n",
            " PROJECT SUMMARY:\n",
            " Best Model: Random Forest with R² = 1.0000\n",
            " Current Revenue: $1,799,256.15\n",
            " Potential Revenue Increase: $30,303.27\n",
            "\n",
            " RECOMMENDATIONS:\n",
            "1. Focus on optimizing the most important features identified\n",
            "2. Implement dynamic pricing based on competitor analysis\n",
            "3. Improve load factors for flights with low utilization\n",
            "4. Monitor and adjust pricing strategies regularly\n"
          ]
        }
      ]
    },
    {
      "cell_type": "code",
      "source": [
        "# Save results\n",
        "results_summary = pd.DataFrame({\n",
        "    'Model': list(results.keys()),\n",
        "    'R2_Score': [results[name]['test_r2'] for name in results.keys()],\n",
        "    'MAE': [results[name]['mae'] for name in results.keys()],\n",
        "    'RMSE': [results[name]['rmse'] for name in results.keys()]\n",
        "})"
      ],
      "metadata": {
        "id": "KAmX-lRk5QRd"
      },
      "execution_count": null,
      "outputs": []
    },
    {
      "cell_type": "code",
      "source": [
        "print(\"\\n Model Performance Summary:\")\n",
        "print(results_summary)"
      ],
      "metadata": {
        "colab": {
          "base_uri": "https://localhost:8080/"
        },
        "id": "rK88VP1F5d2c",
        "outputId": "dac4b9ac-8f1f-46f2-de04-98321c9430d9"
      },
      "execution_count": null,
      "outputs": [
        {
          "output_type": "stream",
          "name": "stdout",
          "text": [
            "\n",
            " Model Performance Summary:\n",
            "           Model  R2_Score       MAE      RMSE\n",
            "0  Random Forest   0.99999  0.741502  1.087829\n"
          ]
        }
      ]
    }
  ]
}